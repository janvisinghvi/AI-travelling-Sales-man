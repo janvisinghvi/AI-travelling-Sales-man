{
  "nbformat": 4,
  "nbformat_minor": 0,
  "metadata": {
    "colab": {
      "name": "tsm.ipynb",
      "version": "0.3.2",
      "provenance": [],
      "collapsed_sections": [],
      "include_colab_link": true
    },
    "kernelspec": {
      "name": "python3",
      "display_name": "Python 3"
    }
  },
  "cells": [
    {
      "cell_type": "markdown",
      "metadata": {
        "id": "view-in-github",
        "colab_type": "text"
      },
      "source": [
        "<a href=\"https://colab.research.google.com/github/janvisinghvi/AI-travelling-Sales-man/blob/master/tsm.ipynb\" target=\"_parent\"><img src=\"https://colab.research.google.com/assets/colab-badge.svg\" alt=\"Open In Colab\"/></a>"
      ]
    },
    {
      "cell_type": "code",
      "metadata": {
        "id": "9VKWNHQd2JTK",
        "colab_type": "code",
        "colab": {
          "base_uri": "https://localhost:8080/",
          "height": 85
        },
        "outputId": "665f7e62-b111-4c1a-f6a9-54856c37924b"
      },
      "source": [
        "import doctest\n",
        "from itertools import permutations\n",
        "\n",
        "def distance(point1, point2):\n",
        "    \"\"\"\n",
        "    Returns the Euclidean distance of two points in the Cartesian Plane.\n",
        "\n",
        "    >>> distance([3,4],[0,0])\n",
        "    5.0\n",
        "    >>> distance([3,6],[10,6])\n",
        "    7.0\n",
        "    \"\"\"\n",
        "    return ((point1[0] - point2[0])**2 + (point1[1] - point2[1])**2) ** 0.5\n",
        "\n",
        "def total_distance(points):\n",
        "    \"\"\"\n",
        "    Returns the length of the path passing throught\n",
        "    all the points in the given order.\n",
        "\n",
        "    >>> total_distance([[1,2],[4,6]])\n",
        "    5.0\n",
        "    >>> total_distance([[3,6],[7,6],[12,6]])\n",
        "    9.0\n",
        "    \"\"\"\n",
        "    return sum([distance(point, points[index + 1]) for index, point in enumerate(points[:-1])])\n",
        "\n",
        "def travelling_salesman(points, start=None):\n",
        "    \"\"\"\n",
        "    Finds the shortest route to visit all the cities by bruteforce.\n",
        "    Time complexity is O(N!), so never use on long lists.\n",
        "\n",
        "    >>> travelling_salesman([[0,0],[10,0],[6,0]])\n",
        "    ([0, 0], [6, 0], [10, 0])\n",
        "    >>> travelling_salesman([[0,0],[6,0],[2,3],[3,7],[0.5,9],[3,5],[9,1]])\n",
        "    ([0, 0], [6, 0], [9, 1], [2, 3], [3, 5], [3, 7], [0.5, 9])\n",
        "    \"\"\"\n",
        "    if start is None:\n",
        "        start = points[0]\n",
        "    return min([perm for perm in permutations(points) if perm[0] == start], key=total_distance)\n",
        "\n",
        "\n",
        "def optimized_travelling_salesman(points, start=None):\n",
        "    \"\"\"\n",
        "    As solving the problem in the brute force way is too slow,\n",
        "    this function implements a simple heuristic: always\n",
        "    go to the nearest city.\n",
        "\n",
        "    Even if this algoritmh is extremely simple, it works pretty well\n",
        "    giving a solution only about 25% longer than the optimal one (cit. Wikipedia),\n",
        "    and runs very fast in O(N^2) time complexity.\n",
        "\n",
        "    >>> optimized_travelling_salesman([[i,j] for i in range(5) for j in range(5)])\n",
        "    [[0, 0], [0, 1], [0, 2], [0, 3], [0, 4], [1, 4], [1, 3], [1, 2], [1, 1], [1, 0], [2, 0], [2, 1], [2, 2], [2, 3], [2, 4], [3, 4], [3, 3], [3, 2], [3, 1], [3, 0], [4, 0], [4, 1], [4, 2], [4, 3], [4, 4]]\n",
        "    >>> optimized_travelling_salesman([[0,0],[10,0],[6,0]])\n",
        "    [[0, 0], [6, 0], [10, 0]]\n",
        "    \"\"\"\n",
        "    if start is None:\n",
        "        start = points[0]\n",
        "    must_visit = points\n",
        "    path = [start]\n",
        "    must_visit.remove(start)\n",
        "    while must_visit:\n",
        "        nearest = min(must_visit, key=lambda x: distance(path[-1], x))\n",
        "        path.append(nearest)\n",
        "        must_visit.remove(nearest)\n",
        "    return path\n",
        "\n",
        "def main():\n",
        "    doctest.testmod()\n",
        "    points = [[0, 0], [1, 5.7], [2, 3], [3, 7],\n",
        "               [0.5, 9], [3, 5], [9, 1], [10, 5]]\n",
        "    print(\"\"\"The minimum distance to visit all the following points: {}\n",
        "starting at {} is {}.\n",
        "\n",
        "The optimized algorithm yields a path long {}.\"\"\".format(\n",
        "        tuple(points),\n",
        "        points[0],\n",
        "        total_distance(travelling_salesman(points)),\n",
        "        total_distance(optimized_travelling_salesman(points))))\n",
        "\n",
        "if __name__ == \"__main__\":\n",
        "    main()\n"
      ],
      "execution_count": 1,
      "outputs": [
        {
          "output_type": "stream",
          "text": [
            "The minimum distance to visit all the following points: ([0, 0], [1, 5.7], [2, 3], [3, 7], [0.5, 9], [3, 5], [9, 1], [10, 5])\n",
            "starting at [0, 0] is 25.90302275027582.\n",
            "\n",
            "The optimized algorithm yields a path long 27.995524884656632.\n"
          ],
          "name": "stdout"
        }
      ]
    }
  ]
}